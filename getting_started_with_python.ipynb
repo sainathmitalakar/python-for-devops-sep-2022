{
  "nbformat": 4,
  "nbformat_minor": 0,
  "metadata": {
    "colab": {
      "name": "getting-started-with-python.ipynb",
      "provenance": [],
      "toc_visible": true,
      "authorship_tag": "ABX9TyNHpLeRQFZbozOo7zy0FQ0s",
      "include_colab_link": true
    },
    "kernelspec": {
      "name": "python3",
      "display_name": "Python 3"
    },
    "language_info": {
      "name": "python"
    },
    "gpuClass": "standard"
  },
  "cells": [
    {
      "cell_type": "markdown",
      "metadata": {
        "id": "view-in-github",
        "colab_type": "text"
      },
      "source": [
        "<a href=\"https://colab.research.google.com/github/sainathmitalakar/python-for-devops-sep-2022/blob/main/getting_started_with_python.ipynb\" target=\"_parent\"><img src=\"https://colab.research.google.com/assets/colab-badge.svg\" alt=\"Open In Colab\"/></a>"
      ]
    },
    {
      "cell_type": "markdown",
      "source": [
        "## Introduction to Python\n",
        "\n",
        "---\n",
        "\n"
      ],
      "metadata": {
        "id": "uDPyB3CJ3QSf"
      }
    },
    {
      "cell_type": "markdown",
      "source": [
        "### statements in python\n"
      ],
      "metadata": {
        "id": "YiNpRZ-y37Fd"
      }
    },
    {
      "cell_type": "code",
      "source": [
        "print(\"hello world\")"
      ],
      "metadata": {
        "id": "6S36rbo74kdx",
        "outputId": "e8b6d589-64bb-4dda-d62c-95305f8c441f",
        "colab": {
          "base_uri": "https://localhost:8080/"
        }
      },
      "execution_count": 3,
      "outputs": [
        {
          "output_type": "stream",
          "name": "stdout",
          "text": [
            "hello world\n"
          ]
        }
      ]
    },
    {
      "cell_type": "code",
      "source": [
        "name = \"bob\"\n",
        "print( f\"hello {name}\")"
      ],
      "metadata": {
        "id": "oVb6-d7049NY",
        "outputId": "2e477b8e-3272-4425-9654-a9f4e2d983ec",
        "colab": {
          "base_uri": "https://localhost:8080/"
        }
      },
      "execution_count": 6,
      "outputs": [
        {
          "output_type": "stream",
          "name": "stdout",
          "text": [
            "hello bob\n"
          ]
        }
      ]
    },
    {
      "cell_type": "markdown",
      "source": [
        "### Data structures : Lists and Dictonaries\n",
        "\n",
        "### List\n"
      ],
      "metadata": {
        "id": "OAH-Tf8n5gXQ"
      }
    },
    {
      "cell_type": "code",
      "source": [
        "fruit = [ \"apple\", \"banana\" , \"strawberry\" ]"
      ],
      "metadata": {
        "id": "NcMd6JOl527l"
      },
      "execution_count": 12,
      "outputs": []
    },
    {
      "cell_type": "code",
      "source": [
        "type(fruit)"
      ],
      "metadata": {
        "id": "lu-yHodd6IOM",
        "outputId": "c86ca105-fa46-490b-c1dc-191583a513fe",
        "colab": {
          "base_uri": "https://localhost:8080/"
        }
      },
      "execution_count": 13,
      "outputs": [
        {
          "output_type": "execute_result",
          "data": {
            "text/plain": [
              "list"
            ]
          },
          "metadata": {},
          "execution_count": 13
        }
      ]
    },
    {
      "cell_type": "code",
      "source": [
        "fruit[0]"
      ],
      "metadata": {
        "id": "s-9N_nJU6oWO",
        "outputId": "f9be1cbf-84c8-4e19-f106-ae49bc947ad7",
        "colab": {
          "base_uri": "https://localhost:8080/",
          "height": 35
        }
      },
      "execution_count": 15,
      "outputs": [
        {
          "output_type": "execute_result",
          "data": {
            "text/plain": [
              "'apple'"
            ],
            "application/vnd.google.colaboratory.intrinsic+json": {
              "type": "string"
            }
          },
          "metadata": {},
          "execution_count": 15
        }
      ]
    },
    {
      "cell_type": "code",
      "source": [
        "fruit[:-1]"
      ],
      "metadata": {
        "id": "PQbuuA3b61Sk",
        "outputId": "d1e79861-e47a-4c53-b815-f6c476d51242",
        "colab": {
          "base_uri": "https://localhost:8080/"
        }
      },
      "execution_count": 17,
      "outputs": [
        {
          "output_type": "execute_result",
          "data": {
            "text/plain": [
              "['apple', 'banana']"
            ]
          },
          "metadata": {},
          "execution_count": 17
        }
      ]
    },
    {
      "cell_type": "code",
      "source": [
        "for my_fruit in fruit:\n",
        "  print(f\"this is my favoruit fruit:{my_fruit}\")\n"
      ],
      "metadata": {
        "id": "4bHj1-FJ7LCu",
        "outputId": "2afec56b-13cc-487b-c463-5b3ca09feaea",
        "colab": {
          "base_uri": "https://localhost:8080/"
        }
      },
      "execution_count": 19,
      "outputs": [
        {
          "output_type": "stream",
          "name": "stdout",
          "text": [
            "this is my favoruit fruit:apple\n",
            "this is my favoruit fruit:banana\n",
            "this is my favoruit fruit:strawberry\n"
          ]
        }
      ]
    },
    {
      "cell_type": "markdown",
      "source": [],
      "metadata": {
        "id": "ntaxhS_W35Kx"
      }
    },
    {
      "cell_type": "markdown",
      "source": [
        "### Dictonaries\n"
      ],
      "metadata": {
        "id": "3q2E2dMh7xpL"
      }
    },
    {
      "cell_type": "code",
      "source": [
        "meal = {\"breakfast\":\"idali dosa\",\"lunch\":\"rice plate\",\"dinner\":\"rice and beans\"}"
      ],
      "metadata": {
        "id": "EJwLUt5f8FC-"
      },
      "execution_count": 22,
      "outputs": []
    },
    {
      "cell_type": "code",
      "source": [
        "meal.keys()"
      ],
      "metadata": {
        "id": "4mPhKwWx9J4n",
        "outputId": "ab22f005-5905-432e-fc73-a05929eb1f17",
        "colab": {
          "base_uri": "https://localhost:8080/"
        }
      },
      "execution_count": 23,
      "outputs": [
        {
          "output_type": "execute_result",
          "data": {
            "text/plain": [
              "dict_keys(['breakfast', 'lunch', 'dinner'])"
            ]
          },
          "metadata": {},
          "execution_count": 23
        }
      ]
    },
    {
      "cell_type": "code",
      "source": [
        "meal.values()"
      ],
      "metadata": {
        "id": "dYHJ2qmT9M4h",
        "outputId": "3ad02648-3737-4e57-d9d9-fbcf0d8c86f9",
        "colab": {
          "base_uri": "https://localhost:8080/"
        }
      },
      "execution_count": 24,
      "outputs": [
        {
          "output_type": "execute_result",
          "data": {
            "text/plain": [
              "dict_values(['idali dosa', 'rice plate', 'rice and beans'])"
            ]
          },
          "metadata": {},
          "execution_count": 24
        }
      ]
    },
    {
      "cell_type": "code",
      "source": [
        "for meal_name,meal_item in meal.items():\n",
        "  print(f\"This is meal {meal_name} I like to consume {meal_item}\")"
      ],
      "metadata": {
        "id": "jC1p_qTh9R6E",
        "outputId": "12a037e6-2158-40a7-a4e5-dd5201dc9d0d",
        "colab": {
          "base_uri": "https://localhost:8080/"
        }
      },
      "execution_count": 26,
      "outputs": [
        {
          "output_type": "stream",
          "name": "stdout",
          "text": [
            "This is meal breakfast I like to consume idali dosa\n",
            "This is meal lunch I like to consume rice plate\n",
            "This is meal dinner I like to consume rice and beans\n"
          ]
        }
      ]
    }
  ]
}